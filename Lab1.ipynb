{
 "cells": [
  {
   "cell_type": "code",
   "execution_count": null,
   "id": "d69b8333-d5df-4c8a-a252-b4b958a62c37",
   "metadata": {},
   "outputs": [],
   "source": [
    "name = \"Hanh Hoang(Hannah)\"\n",
    "date_returned = \"20/09/2022\""
   ]
  },
  {
   "cell_type": "markdown",
   "id": "cef4f31e-3d0f-4f36-ad70-a24afc359d21",
   "metadata": {},
   "source": [
    "# Lab 1\n",
    "**Graphical representation of functions**<br>\n",
    "Software 1<br>\n",
    "Information and Communication Technology<br>\n",
    "Metropolia University of Applied Sciences\n",
    "\n",
    "## Instructions\n",
    "\n",
    "The aim of these first Python exercises is to get familiar with the basics of the numerical python and matplotlib graphics libraries.\n",
    "\n",
    "The problems are designed to be solved in order. The next problem is build on the topics learnt in the previous problems.\n",
    "\n",
    "Most important official documents to review:\n",
    "- [Numpy array creation](https://numpy.org/doc/1.23/user/basics.creation.html)\n",
    "- [A simple exampleof matplotlib](https://matplotlib.org/stable/tutorials/introductory/usage.html#a-simple-example)\n",
    "- [Intro to pyplot](https://matplotlib.org/stable/tutorials/introductory/pyplot.html#sphx-glr-tutorials-introductory-pyplot-py)\n",
    "- [Basic usage of matplotlib](https://matplotlib.org/stable/tutorials/introductory/usage.html#sphx-glr-tutorials-introductory-usage-py)\n",
    "\n",
    "You can use [Moodle Quiz Lab 1](https://moodle.metropolia.fi/mod/quiz/view.php?id=482753) to automatically check and verify your answers.\n"
   ]
  },
  {
   "cell_type": "markdown",
   "id": "e4f12ef7-db3f-4e97-870d-94e9bc573e91",
   "metadata": {},
   "source": [
    "## Setup\n",
    "\n",
    "Read necessary libraries. Notice that you need to import these libraries only once in the Notebook environment."
   ]
  },
  {
   "cell_type": "code",
   "execution_count": null,
   "id": "438caee2-75aa-4261-803c-3556adef1617",
   "metadata": {},
   "outputs": [],
   "source": [
    "import numpy as np\n",
    "import matplotlib.pyplot as plt"
   ]
  },
  {
   "cell_type": "markdown",
   "id": "7c16952b-6bcc-4345-ad2f-7244792dfd17",
   "metadata": {},
   "source": [
    "## Problem 1\n",
    "\n",
    "Create a numerical array $x$ from 10 to 20 with stepsize of 1. "
   ]
  },
  {
   "cell_type": "code",
   "execution_count": 7,
   "id": "54e9cc4c-c8ad-4721-ac85-7c99d48a80bc",
   "metadata": {},
   "outputs": [
    {
     "data": {
      "text/plain": [
       "array([10, 11, 12, 13, 14, 15, 16, 17, 18, 19, 20])"
      ]
     },
     "execution_count": 7,
     "metadata": {},
     "output_type": "execute_result"
    }
   ],
   "source": [
    "import numpy as np\n",
    "x = np.arange(10,21)\n",
    "x"
   ]
  },
  {
   "cell_type": "markdown",
   "id": "e26be50c-c8c9-44bc-b3b1-d921cfdb1b80",
   "metadata": {},
   "source": [
    "## Problem 2\n",
    "Create a numerical array $x$ from -5 to 5 with stepsize of 0.5."
   ]
  },
  {
   "cell_type": "code",
   "execution_count": 6,
   "id": "31ca2a33-42d5-49c6-b8c7-ed6fbc700df6",
   "metadata": {},
   "outputs": [
    {
     "data": {
      "text/plain": [
       "array([-5. , -4.5, -4. , -3.5, -3. , -2.5, -2. , -1.5, -1. , -0.5,  0. ,\n",
       "        0.5,  1. ,  1.5,  2. ,  2.5,  3. ,  3.5,  4. ,  4.5,  5. ])"
      ]
     },
     "execution_count": 6,
     "metadata": {},
     "output_type": "execute_result"
    }
   ],
   "source": [
    "import numpy as np\n",
    "x = np.arange(-5,5.5,0.5)\n",
    "x"
   ]
  },
  {
   "cell_type": "markdown",
   "id": "dc22a262-dfb1-4bed-9902-0ae0b53a1b5f",
   "metadata": {},
   "source": [
    "## Problem 3\n",
    "Use the numerical array $x$ from -5 to 5 with stepsize of 0.5 to calculate $y = x^2$."
   ]
  },
  {
   "cell_type": "code",
   "execution_count": 5,
   "id": "3322b059-3ace-49c4-9af3-926712ecd0ed",
   "metadata": {},
   "outputs": [
    {
     "data": {
      "text/plain": [
       "array([25.  , 20.25, 16.  , 12.25,  9.  ,  6.25,  4.  ,  2.25,  1.  ,\n",
       "        0.25,  0.  ,  0.25,  1.  ,  2.25,  4.  ,  6.25,  9.  , 12.25,\n",
       "       16.  , 20.25, 25.  ])"
      ]
     },
     "execution_count": 5,
     "metadata": {},
     "output_type": "execute_result"
    }
   ],
   "source": [
    "import numpy as np\n",
    "x = np.arange(-5,5.5,0.5)\n",
    "y = x**2\n",
    "y"
   ]
  },
  {
   "cell_type": "markdown",
   "id": "57a50006-3c75-4437-94a0-b74dd4dd97a7",
   "metadata": {},
   "source": [
    "## Problem 4\n",
    "\n",
    "Create a numerical array x from -100 to 100 with stepsize of 0.01. \n",
    "Then calculate $y = x^2 + x - 11$. \n"
   ]
  },
  {
   "cell_type": "code",
   "execution_count": null,
   "id": "dc81b68c-292f-474e-881a-8804767bc606",
   "metadata": {},
   "outputs": [],
   "source": [
    "x = np.arange(-100,100.01,0.01)\n",
    "y = x**2 + x - 11\n",
    "y\n"
   ]
  },
  {
   "cell_type": "markdown",
   "id": "e71e4ed5-9b63-4004-ab1f-0eaca6541f73",
   "metadata": {},
   "source": [
    "## Problem 5\n",
    "\n",
    "Make a graph of the function $ y = x^2 + x - 11 $ in range $x \\in [-100, 100]$ with stepsize of $0.01$. \n",
    "\n",
    "Tip: First use the same code as in previous problem to create and calculate x and y.\n"
   ]
  },
  {
   "cell_type": "code",
   "execution_count": 4,
   "id": "402458b4-fbee-4b51-a9af-91194e0c7dee",
   "metadata": {},
   "outputs": [
    {
     "data": {
      "text/plain": [
       "[<matplotlib.lines.Line2D at 0x7fee680ff8e0>]"
      ]
     },
     "execution_count": 4,
     "metadata": {},
     "output_type": "execute_result"
    },
    {
     "data": {
      "image/png": "[encoded data removed]",
      "text/plain": [
       "<Figure size 432x288 with 1 Axes>"
      ]
     },
     "metadata": {
      "needs_background": "light"
     },
     "output_type": "display_data"
    }
   ],
   "source": [
    "import numpy as np\n",
    "import matplotlib.pyplot as plt\n",
    "\n",
    "x = x = np.arange(-100,100.01,0.01)\n",
    "y = x**2 + x - 11\n",
    "\n",
    "\n",
    "# Graphics commands here\n",
    "plt.plot(x,y)"
   ]
  },
  {
   "cell_type": "markdown",
   "id": "c172d58f-ba4f-4c5a-a48f-76c7b4ccbf55",
   "metadata": {},
   "source": [
    "## Problem 6\n",
    "\n",
    "Make a graph of the function $y = x^2 + x - 11$ in range $x \\in[-100, 100]$ with stepsie of $0.01$ (as in previous problem). \n",
    "\n",
    "- Limit the display for x-values between -25 and 25. \n",
    "- Limit the display for the y-values between -100 and 600.\n",
    "- Add gridlines to the graph."
   ]
  },
  {
   "cell_type": "code",
   "execution_count": 3,
   "id": "2aa2308a-9794-45c5-bff5-5578ff6213c3",
   "metadata": {},
   "outputs": [
    {
     "data": {
      "text/plain": [
       "(-100.0, 600.0)"
      ]
     },
     "execution_count": 3,
     "metadata": {},
     "output_type": "execute_result"
    },
    {
     "data": {
      "image/png": "[encoded data removed]",
      "text/plain": [
       "<Figure size 432x288 with 1 Axes>"
      ]
     },
     "metadata": {
      "needs_background": "light"
     },
     "output_type": "display_data"
    }
   ],
   "source": [
    "import numpy as np\n",
    "import matplotlib.pyplot as plt\n",
    "x = np.arange(-100,100.01,0.01)\n",
    "y = x**2 + x - 11\n",
    "\n",
    "# Graphics commands here\n",
    "plt.plot(x,y)\n",
    "plt.grid(True)\n",
    "plt.xlim(-25,25)\n",
    "plt.ylim(-100,600)"
   ]
  },
  {
   "cell_type": "markdown",
   "id": "caf10c9f-ede5-4954-be5b-75913f955a10",
   "metadata": {},
   "source": [
    "## Problem 7\n",
    "\n",
    "Make a graph of the function $y = x^2 + x - 11$ in range $x \\in[-100, 100]$ with stepsize of $0.01$ (as in previous problem). \n",
    "\n",
    "Change the y-axis limits between -1 and 1. \n",
    "\n",
    "Change the x-axis limits so that the second root of the function (e.g. $x^2 + x -11 = 0$ and $x>0$) is about in the center of the graph and the width of the x-axis is $0.30$. \n",
    "\n",
    "Read the value of the second root from the graph. Write the value for variable $x2$ with two decimal accuracy (for example. x1 = 1.23)."
   ]
  },
  {
   "cell_type": "code",
   "execution_count": 2,
   "id": "c63234f9-26f3-4b53-8893-64f9d60b0db9",
   "metadata": {},
   "outputs": [
    {
     "data": {
      "image/png": "[encoded data removed]",
      "text/plain": [
       "<Figure size 432x288 with 1 Axes>"
      ]
     },
     "metadata": {
      "needs_background": "light"
     },
     "output_type": "display_data"
    }
   ],
   "source": [
    "import numpy as np\n",
    "import matplotlib.pyplot as plt\n",
    "x = np.arange(-100,100.01,0.01)\n",
    "y = x**2 + x - 11\n",
    "plt.plot(x,y)\n",
    "plt.grid(True)\n",
    "plt.ylim(-1,1)\n",
    "plt.xlim(2.7,3.)\n",
    "\n",
    "\n",
    "\n",
    "# Graphics commands here\n",
    "x2 = 2.85"
   ]
  },
  {
   "cell_type": "code",
   "execution_count": null,
   "id": "bab9d716-ef10-419f-8929-330edc332302",
   "metadata": {},
   "outputs": [],
   "source": []
  }
 ],
 "metadata": {
  "kernelspec": {
   "display_name": "Python 3 (ipykernel)",
   "language": "python",
   "name": "python3"
  },
  "language_info": {
   "codemirror_mode": {
    "name": "ipython",
    "version": 3
   },
   "file_extension": ".py",
   "mimetype": "text/x-python",
   "name": "python",
   "nbconvert_exporter": "python",
   "pygments_lexer": "ipython3",
   "version": "3.9.15"
  }
 },
 "nbformat": 4,
 "nbformat_minor": 5
}
