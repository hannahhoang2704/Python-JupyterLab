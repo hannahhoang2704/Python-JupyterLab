{
 "cells": [
  {
   "cell_type": "code",
   "execution_count": 1,
   "id": "0a59bcfb-789a-4d9a-b379-90c773b139a6",
   "metadata": {},
   "outputs": [],
   "source": [
    "name = \"Hanh Hoang Phan Duc\"\n",
    "date_returned = \"1.3.2023\""
   ]
  },
  {
   "cell_type": "markdown",
   "id": "ff5b24c5-80d3-4185-a718-86fc3f7e48bd",
   "metadata": {},
   "source": [
    "# Lab 6. Matrices\n",
    "Hardware 1 course - Mathematics<br>\n",
    "Information and Communication Technology<br>\n",
    "Metropolia University of Applied Sciences"
   ]
  },
  {
   "cell_type": "markdown",
   "id": "0f87796b-9bef-4bdb-9843-87acda4b4b78",
   "metadata": {},
   "source": [
    "## Setup\n",
    "\n",
    "Read necessary libraries and functions."
   ]
  },
  {
   "cell_type": "code",
   "execution_count": 2,
   "id": "1d5742e3-5811-49b9-8c95-ebd65a94cba5",
   "metadata": {},
   "outputs": [],
   "source": [
    "import numpy as np\n",
    "import matplotlib.pyplot as plt\n",
    "from numpy import sin, cos, dot\n",
    "from numpy.linalg import det, inv"
   ]
  },
  {
   "cell_type": "markdown",
   "id": "f324626d-e1dd-438f-be4a-c237cae4ca9d",
   "metadata": {},
   "source": [
    "---\n",
    "## Matrix calculations\n",
    "\n",
    "## Problem 1"
   ]
  },
  {
   "cell_type": "markdown",
   "id": "60de03c7-30f4-43cb-86e5-ff3c59c8dbd3",
   "metadata": {},
   "source": [
    "Given the following square matrices<br>\n",
    "$A = \\left( \\begin{matrix} \n",
    "-6 & 12 & 12 & 26 \\\\\n",
    "-16 & -13 & -30 & -20 \\\\\n",
    "2 & -23 & -25 & -20 \\\\\n",
    "-2 & 27 & -21 & -14 \\\\\n",
    "\\end{matrix} \\right)$\n",
    "and\n",
    "$B = \\left( \\begin{matrix} \n",
    "2 & -26 & -14 & 24 \\\\\n",
    "26 & -6 & -15 & -14 \\\\\n",
    "27 & 18 & 22 & 28 \\\\\n",
    "6 & -24 & -30 & 24 \\\\\n",
    "\\end{matrix} \\right)$\n",
    "\n",
    "Calculate and display the values<br>\n",
    "(a) $C = A + B$<br>\n",
    "(b) $D = 2A - 3B$<br>\n",
    "(c) $E = AB$<br>\n",
    "(d) $F = AB^{-1}$<br>\n",
    "\n"
   ]
  },
  {
   "cell_type": "markdown",
   "id": "1adc5b9e-5012-4018-b270-758f9576d6e6",
   "metadata": {
    "tags": []
   },
   "source": [
    "### Solutions"
   ]
  },
  {
   "cell_type": "code",
   "execution_count": 3,
   "id": "b0e6f6dd-7274-46ef-adb3-7f620157d33e",
   "metadata": {},
   "outputs": [
    {
     "name": "stdout",
     "output_type": "stream",
     "text": [
      "A = A\n",
      " [[ -6  12  12  26]\n",
      " [-16 -13 -30 -20]\n",
      " [  2 -23 -25 -20]\n",
      " [ -2  27 -21 -14]]\n",
      "B = B\n",
      " [[  2 -26 -14  24]\n",
      " [ 26  -6 -15 -14]\n",
      " [ 27  18  22  28]\n",
      " [  6 -24 -30  24]]\n",
      "C = A+B=\n",
      " [[ -4 -14  -2  50]\n",
      " [ 10 -19 -45 -34]\n",
      " [ 29  -5  -3   8]\n",
      " [  4   3 -51  10]]\n"
     ]
    }
   ],
   "source": [
    "# (a)\n",
    "A = np.array([[-6,12,12,26], [-16,-13,-30,-20], [2,-23,-25,-20], [-2,27,-21,-14]])\n",
    "B = np.array([[2,-26,-14,24], [26,-6,-15,-14], [27,18,22,28],[6,-24,-30,24]])\n",
    "print('A = A\\n', A)\n",
    "print('B = B\\n', B)\n",
    "C = A+B\n",
    "print('C = A+B=\\n', C)"
   ]
  },
  {
   "cell_type": "code",
   "execution_count": 4,
   "id": "68f20976-d9d1-4887-b6f7-4d006c82ed83",
   "metadata": {},
   "outputs": [
    {
     "name": "stdout",
     "output_type": "stream",
     "text": [
      "D =2A-3B=\n",
      " [[ -18  102   66  -20]\n",
      " [-110   -8  -15    2]\n",
      " [ -77 -100 -116 -124]\n",
      " [ -22  126   48 -100]]\n"
     ]
    }
   ],
   "source": [
    "# (b)\n",
    "D = (2*A) - (3*B)\n",
    "print('D =2A-3B=\\n', D)"
   ]
  },
  {
   "cell_type": "code",
   "execution_count": 5,
   "id": "cd0d0027-e7c3-48cd-ac05-84a06bdff7dc",
   "metadata": {},
   "outputs": [
    {
     "name": "stdout",
     "output_type": "stream",
     "text": [
      "E = AB = \n",
      " [[  780  -324  -612   648]\n",
      " [-1300   434   359 -1522]\n",
      " [-1389   116   367  -810]\n",
      " [   47  -152  -419 -1350]]\n",
      "E.shape = (4, 4)\n"
     ]
    }
   ],
   "source": [
    "# (c)\n",
    "E = np.dot(A,B)\n",
    "print('E = AB = \\n', E)\n",
    "print('E.shape =', E.shape)"
   ]
  },
  {
   "cell_type": "code",
   "execution_count": 6,
   "id": "76981cce-9516-4b77-a1d3-c426135c16a6",
   "metadata": {},
   "outputs": [
    {
     "name": "stdout",
     "output_type": "stream",
     "text": [
      "Binv = \n",
      " [[ 0.01132196  0.02710891  0.01227874 -0.00983363]\n",
      " [-0.07435816 -0.01747728  0.01090735  0.05143784]\n",
      " [ 0.05603572  0.00459257  0.0044331  -0.05852868]\n",
      " [-0.007144   -0.01851379  0.01337905  0.02240206]]\n",
      "F = ABinv=\n",
      " [[-0.47354489 -0.79862861  0.45826822  0.55636528]\n",
      " [-0.75268697  0.02596077 -0.73882953  0.79646521]\n",
      " [ 0.47486844  0.71165683 -0.60472014 -0.18756179]\n",
      " [-3.10704832 -0.36335513 -0.01046085  2.32396215]]\n"
     ]
    }
   ],
   "source": [
    "# (d)\n",
    "Binv = np.linalg.inv(B)\n",
    "print('Binv = \\n', Binv)\n",
    "F = np.dot(A,Binv)\n",
    "print('F = ABinv=\\n', F)\n"
   ]
  },
  {
   "cell_type": "markdown",
   "id": "c1872d9e-a3d0-469b-a4f6-f114ff8399bb",
   "metadata": {},
   "source": [
    "---\n",
    "## Problem 2"
   ]
  },
  {
   "cell_type": "markdown",
   "id": "9a58d1ae-63a3-4eb7-ae53-0de342ffbe32",
   "metadata": {},
   "source": [
    "First, use paper and pen, solve the linear equations for $x$ and $y$\n",
    "\n",
    "\\begin{align*} \n",
    "a_1 x + a_2y &=  b_1 \\\\ \n",
    "a_3 x + a_4 y &= b_2\n",
    "\\end{align*}\n",
    "\n",
    "Then write a code that solves the following equations\n",
    "\n",
    "\\begin{align*} \n",
    "2x - 5y &=  8 \\\\ \n",
    "3x + 9y &=  -12\n",
    "\\end{align*}\n"
   ]
  },
  {
   "cell_type": "markdown",
   "id": "1dace412-7d48-4f69-9a07-0f62e896d5dd",
   "metadata": {},
   "source": [
    "### Solution"
   ]
  },
  {
   "cell_type": "code",
   "execution_count": 7,
   "id": "5775df1e-b457-4ce4-a000-c89266534ee5",
   "metadata": {},
   "outputs": [
    {
     "name": "stdout",
     "output_type": "stream",
     "text": [
      "x = 0.36363636363636365\n",
      "y = -1.4545454545454546\n"
     ]
    }
   ],
   "source": [
    "a1 = 2\n",
    "a2 = -5\n",
    "b1 = 8\n",
    "a3 = 3\n",
    "a4 = 9 \n",
    "b2 = -12\n",
    "x = ((a4*b1)-(a2*b2))/((a1*a4)-(a2*a3))\n",
    "y = ((a1*b2)-(a3*b1))/((a1*a4)-(a2*a3))\n",
    "print(f'x = {x}')\n",
    "print(f'y = {y}')"
   ]
  },
  {
   "cell_type": "markdown",
   "id": "a2e49635-571a-4309-b0fc-4829ee6994d3",
   "metadata": {},
   "source": [
    "---\n",
    "## Problem 3\n",
    "Solve the following equations using `numpy` matrix operations\n",
    "\\begin{align*}\n",
    "2x + y + 3z = −1 \\\\\n",
    "x − y − 2z = 5 \\\\\n",
    "2x + y − 3z = 2\n",
    "\\end{align*}"
   ]
  },
  {
   "cell_type": "markdown",
   "id": "bfaf29b8-6f09-4d01-acee-81ca73f122ec",
   "metadata": {},
   "source": [
    "### Solution"
   ]
  },
  {
   "cell_type": "code",
   "execution_count": 8,
   "id": "639f1242-1f89-4ed1-8e3b-cb91f2795ffc",
   "metadata": {},
   "outputs": [
    {
     "name": "stdout",
     "output_type": "stream",
     "text": [
      "A =\n",
      " [[ 2  1  3]\n",
      " [ 1 -1 -2]\n",
      " [ 2  1 -3]]\n",
      "B =\n",
      " [-1  5  2]\n",
      "x = 1.5\n",
      "y = -2.5\n",
      "z = -0.5\n"
     ]
    }
   ],
   "source": [
    "A = np.array([[2,1,3],[1,-1,-2],[2,1,-3]])\n",
    "B = np.array([-1,5,2])\n",
    "print('A =\\n', A)\n",
    "print('B =\\n', B)\n",
    "x = np.linalg.solve(A, B)\n",
    "print('x =', x[0])\n",
    "print('y =', x[1])\n",
    "print('z =', x[2])"
   ]
  },
  {
   "cell_type": "markdown",
   "id": "492a9dad-5aa7-4d7a-b0f5-93c27d9f25dd",
   "metadata": {},
   "source": [
    "---\n",
    "## Problem 4\n",
    "Using numpy, determine if the following system have nontrivial solution\n",
    "\\begin{align*}\n",
    "2x − 3y − 2z = 0 \\\\\n",
    "3x + y − 3z = 0 \\\\\n",
    "x − 7y − z = 0 \\\\\n",
    "\\end{align*}"
   ]
  },
  {
   "cell_type": "markdown",
   "id": "56339a48-5070-4819-b156-fa178c66acbb",
   "metadata": {},
   "source": [
    "### Solution"
   ]
  },
  {
   "cell_type": "code",
   "execution_count": 9,
   "id": "6b992f33-e6e3-4ca6-a538-18b43fa0484c",
   "metadata": {},
   "outputs": [
    {
     "name": "stdout",
     "output_type": "stream",
     "text": [
      "A = \n",
      " [[ 2 -3 -2]\n",
      " [ 3  1 -3]\n",
      " [ 1 -7 -1]]\n",
      "det(A) = 0.0\n",
      "detA = 0 -> nontrivial solution\n"
     ]
    }
   ],
   "source": [
    "A = np.array([[2,-3,-2],[3,1,-3],[1,-7,-1]])\n",
    "detA = np.linalg.det(A)\n",
    "print('A = \\n', A)\n",
    "print('det(A) =', np.round(detA,3))\n",
    "print('detA = 0 -> nontrivial solution')"
   ]
  },
  {
   "cell_type": "markdown",
   "id": "fe28dad0-6dd6-4652-98d7-c62dc793821f",
   "metadata": {},
   "source": [
    "---\n",
    "## Problem 5\n",
    "Solve the following equations using numpy linear algebra operations\n",
    "\\begin{matrix} \n",
    "6x_1 + 6x_2 + 2x_3 + 3x_4 + 3x_5 = 7 \\\\\n",
    "3x_1 + 8x_2 + 8x_3 + 6x_4 + 8x_5 = 4 \\\\\n",
    "2x_1 + 3x_2 + 7x_3 + 6x_4 + 8x_5 = 1 \\\\\n",
    "3x_1 + 8x_2 + 7x_3 + 2x_4 + 2x_5 = 2 \\\\\n",
    "x_1 + 2x_2 + 8x_3 + 8x_4 + 8x_5 = 2\n",
    "\\end{matrix}"
   ]
  },
  {
   "cell_type": "markdown",
   "id": "f87f1519-94cf-459a-a72b-1aacce6fec97",
   "metadata": {},
   "source": [
    "### Solution"
   ]
  },
  {
   "cell_type": "code",
   "execution_count": 10,
   "id": "ff41220d-5da6-46bf-b963-69386158f120",
   "metadata": {},
   "outputs": [
    {
     "name": "stdout",
     "output_type": "stream",
     "text": [
      "A =\n",
      " [[6 6 2 3 3]\n",
      " [3 8 8 6 8]\n",
      " [2 3 7 6 8]\n",
      " [3 8 7 2 2]\n",
      " [1 2 8 8 8]]\n",
      "B =\n",
      " [7 4 1 2 2]\n",
      "Vector solutions =\n",
      " [ 0.25303  0.7389  -0.94751  1.46972 -0.48856]\n"
     ]
    }
   ],
   "source": [
    "A = np.array([[6,6,2,3,3],[3,8,8,6,8],[2,3,7,6,8],[3,8,7,2,2],[1,2,8,8,8]])\n",
    "B = np.array([7,4,1,2,2])\n",
    "x = np.linalg.solve(A, B)\n",
    "print('A =\\n', A)\n",
    "print('B =\\n', B)\n",
    "print('Vector solutions =\\n', np.round(x,5))"
   ]
  },
  {
   "cell_type": "markdown",
   "id": "80f0ffcb-f7e7-4d37-b778-769658e88fa9",
   "metadata": {},
   "source": [
    "---\n",
    "## Problem 6\n",
    "If $a_n = n^2$, find the determinant $det(A)$ of the cyclic matrix\n",
    "$A = \\left( \\begin{matrix} \n",
    "a_1 & a_2 & a_3 & a_4 & a_5 \\\\\n",
    "a_5 & a_1 & a_2 & a_3 & a_4 \\\\\n",
    "a_4 & a_5 & a_1 & a_2 & a_3 \\\\\n",
    "a_3 & a_4 & a_5 & a_1 & a_2 \\\\\n",
    "a_2 & a_3 & a_4 & a_5 & a_1 \\\\\n",
    "\\end{matrix} \\right)$"
   ]
  },
  {
   "cell_type": "markdown",
   "id": "d14cbf45-7dfc-43c0-a0cd-2a406038bd76",
   "metadata": {},
   "source": [
    "### Solution"
   ]
  },
  {
   "cell_type": "code",
   "execution_count": 11,
   "id": "0262bf05-6637-4f94-a5d0-52f15f018333",
   "metadata": {},
   "outputs": [
    {
     "name": "stdout",
     "output_type": "stream",
     "text": [
      "Matrix = \n",
      " [[ 1  4  9 16 25]\n",
      " [25  1  4  9 16]\n",
      " [16 25  1  4  9]\n",
      " [ 9 16 25  1  4]\n",
      " [ 4  9 16 25  1]]\n",
      "Matrix = \n",
      " [[  4  16  36  64 100]\n",
      " [100   4  16  36  64]\n",
      " [ 64 100   4  16  36]\n",
      " [ 36  64 100   4  16]\n",
      " [ 16  36  64 100   4]]\n",
      "Matrix = \n",
      " [[  9  36  81 144 225]\n",
      " [225   9  36  81 144]\n",
      " [144 225   9  36  81]\n",
      " [ 81 144 225   9  36]\n",
      " [ 36  81 144 225   9]]\n",
      "det(A)list = [9406375.0, 9632128000.0, 555437037375.0]\n"
     ]
    }
   ],
   "source": [
    "n = np.arange(1,4)\n",
    "detA_list = []\n",
    "for ni in n:\n",
    "    A = np.array([[(ni*1)**2, (ni*2)**2, (ni*3)**2, (ni*4)**2 , (ni*5)**2],\n",
    "                  [(ni*5)**2, (ni*1)**2, (ni*2)**2, (ni*3)**2, (ni*4)**2], \n",
    "                  [(ni*4)**2, (ni*5)**2, (ni*1)**2, (ni*2)**2, (ni*3)**2],\n",
    "                  [(ni*3)**2, (ni*4)**2, (ni*5)**2, (ni*1)**2, (ni*2)**2], \n",
    "                  [(ni*2)**2, (ni*3)**2, (ni*4)**2, (ni*5)**2, (ni*1)**2]])\n",
    "    print ('Matrix = \\n', A)\n",
    "    detA = np.round(np.linalg.det(A),2)\n",
    "    detA_list.append(detA)\n",
    "    \n",
    "print('det(A)list =', detA_list)"
   ]
  },
  {
   "cell_type": "markdown",
   "id": "0d2169b7-eeea-473c-a658-a064d051c6cd",
   "metadata": {},
   "source": [
    "---\n",
    "## Problem 7\n",
    "Find the determinant of the matrix \n",
    "$A = \\left( \\begin{matrix} \n",
    "1 & sin(3t) & sin^3(t) \\\\\n",
    "2cos(t) & sin(6t) & sin^3(2t) \\\\\n",
    "4cos^2(t) - 1 & sin(9t) & sin^3(3t)\n",
    "\\end{matrix} \\right)$, when  \n",
    "\n",
    "(a) $t = 1.0$, <br>\n",
    "(b) $t = 2.03$, and <br>\n",
    "(c) $t = -0.345$. <br>\n",
    "Round the results to 3 decimals."
   ]
  },
  {
   "cell_type": "markdown",
   "id": "22f31558-690c-47e9-aabe-3a03c71fd48b",
   "metadata": {},
   "source": [
    "### Solution"
   ]
  },
  {
   "cell_type": "code",
   "execution_count": 12,
   "id": "f4ec096b-eb29-42f7-a7d8-a817e43c2be8",
   "metadata": {},
   "outputs": [
    {
     "name": "stdout",
     "output_type": "stream",
     "text": [
      "det(A) = 0.0\n"
     ]
    }
   ],
   "source": [
    "#a)\n",
    "t =1\n",
    "A = np.array([[1,np.sin(3*t),(np.sin(t))**3],\n",
    "              [2*np.cos(t),np.sin(6*t),(np.sin(2*t))**3],\n",
    "              [(4*((np.cos(t))**2)-1),np.sin(9*t),(np.sin(3*t))**3]])\n",
    "\n",
    "detA = np.linalg.det(A)\n",
    "detAround = np.round(detA,3)\n",
    "print('det(A) =', detAround)\n"
   ]
  },
  {
   "cell_type": "code",
   "execution_count": 13,
   "id": "16631d61-91d5-4857-9fb9-5a289a0ce6c3",
   "metadata": {},
   "outputs": [
    {
     "name": "stdout",
     "output_type": "stream",
     "text": [
      "det(A) = 0.0\n"
     ]
    }
   ],
   "source": [
    "#b)\n",
    "t = 2.03\n",
    "A = np.array([[1,np.sin(3*t),(np.sin(t))**3],\n",
    "              [2*np.cos(t),np.sin(6*t),(np.sin(2*t))**3],\n",
    "              [(4*((np.cos(t))**2)-1),np.sin(9*t),(np.sin(3*t))**3]])\n",
    "\n",
    "detA = np.round(np.linalg.det(A),3)\n",
    "print('det(A) =', detA)\n"
   ]
  },
  {
   "cell_type": "code",
   "execution_count": 14,
   "id": "a57c5188-c5f9-4617-a5aa-f76cf1dd5d93",
   "metadata": {},
   "outputs": [
    {
     "name": "stdout",
     "output_type": "stream",
     "text": [
      "det(A) = -0.0\n"
     ]
    }
   ],
   "source": [
    "#c)\n",
    "t = -0.345\n",
    "A = np.array([[1,np.sin(3*t),(np.sin(t))**3],\n",
    "              [2*np.cos(t),np.sin(6*t),(np.sin(2*t))**3],\n",
    "              [(4*((np.cos(t))**2)-1),np.sin(9*t),(np.sin(3*t))**3]])\n",
    "\n",
    "detA = np.round(np.linalg.det(A),3)\n",
    "print('det(A) =', detA)"
   ]
  },
  {
   "cell_type": "markdown",
   "id": "ceb97373-1ee9-44a8-b9a3-c75327e4ee27",
   "metadata": {},
   "source": [
    "---\n",
    "## Problem 8\n",
    "If $ A = \\left( \\begin{matrix}\n",
    "a + x & a - x & a - x \\\\\n",
    "a - x & a + x & a - x \\\\\n",
    "a - x & a - x & a + x\n",
    "\\end{matrix} \\right)$ and $a = 1$, find $x > 0$ so that $det(A) = 0$. \n",
    "\n",
    "How $a$ and $x$ are related?\n",
    "\n",
    "Tip: Calculate the $det(A)$ for different values of $x$ and make a graph of $f(x) = det(A)$. Find from the graph, when $f(x) = 0$."
   ]
  },
  {
   "cell_type": "markdown",
   "id": "c3e1b07b-9088-4e59-afd4-437b98241252",
   "metadata": {},
   "source": [
    "### Solution"
   ]
  },
  {
   "cell_type": "code",
   "execution_count": 15,
   "id": "19dedf68-5047-4df2-8f8f-e38ab5aa2e91",
   "metadata": {},
   "outputs": [
    {
     "name": "stdout",
     "output_type": "stream",
     "text": [
      "A = [[2 0 0]\n",
      " [0 2 0]\n",
      " [0 0 2]]\n",
      "A = [[ 3 -1 -1]\n",
      " [-1  3 -1]\n",
      " [-1 -1  3]]\n",
      "A = [[ 4 -2 -2]\n",
      " [-2  4 -2]\n",
      " [-2 -2  4]]\n",
      "A = [[ 5 -3 -3]\n",
      " [-3  5 -3]\n",
      " [-3 -3  5]]\n",
      "[8.0, 16.0, 0.0, -64.0]\n",
      "detA = 0 when x=3\n"
     ]
    },
    {
     "data": {
      "image/png": "[encoded data removed]",
      "text/plain": [
       "<Figure size 1000x600 with 1 Axes>"
      ]
     },
     "metadata": {},
     "output_type": "display_data"
    }
   ],
   "source": [
    "x = np.arange(1,5)\n",
    "a = 1\n",
    "row = []\n",
    "for xi in x: \n",
    "    A = np.array([[a+xi, a-xi, a-xi], \n",
    "              [a-xi, a+xi, a-xi], \n",
    "              [a-xi, a-xi, a+xi]])\n",
    "    print('A =', A)\n",
    "    detA = np.linalg.det(A)\n",
    "    row.append(round(detA,3))\n",
    "print(row)\n",
    "\n",
    "fig,ax = plt.subplots(figsize = (10,6))\n",
    "ax.plot(x, row)\n",
    "ax.set_xlabel('x')\n",
    "ax.set_ylabel('detA')\n",
    "ax.set_title('det(A)')\n",
    "ax.grid(True)\n",
    "print('detA = 0 when x=3')\n"
   ]
  },
  {
   "cell_type": "code",
   "execution_count": null,
   "id": "2bcb62ae-15c5-4e5e-a4f8-e17275b9f4a0",
   "metadata": {},
   "outputs": [],
   "source": []
  },
  {
   "cell_type": "markdown",
   "id": "d21cdfd9-e0ce-42da-b351-dcf4eacaba4d",
   "metadata": {},
   "source": [
    "---\n",
    "## Problem 9\n",
    "if $A = \\left( \\begin{matrix}\n",
    "0 & 1 & 2 \\\\\n",
    "1 & 2 & 3 \\\\\n",
    "3 & a & 1 \\end{matrix} \\right)$ and \n",
    "$A^{-1} = \\left( \\begin{matrix}\n",
    "0.5 & -0.5 & 0.5 \\\\\n",
    "-4 & 3 & c \\\\\n",
    "2.5 & -1.5 & 0.5 \\end{matrix} \\right)$\n",
    "\n",
    "For which of the values of  $a \\in \\left( -3,-2,-1,0,1,2,3 \\right)$ this is true? What is the value of $c$ then?"
   ]
  },
  {
   "cell_type": "markdown",
   "id": "ca1feb4a-f696-46c4-99b9-6bf73195634e",
   "metadata": {},
   "source": [
    "### Solution"
   ]
  },
  {
   "cell_type": "code",
   "execution_count": 16,
   "id": "0152b1eb-060b-4aae-95fc-b68e73815f35",
   "metadata": {},
   "outputs": [
    {
     "name": "stdout",
     "output_type": "stream",
     "text": [
      "a range = [-3. -2. -1.  0.  1.  2.  3.]\n",
      "The solution is: \n",
      "\n",
      "Matrix=\n",
      " [[0. 1. 2.]\n",
      " [1. 2. 3.]\n",
      " [3. 1. 1.]] \n",
      "Value of a = [[1.]] \n",
      "\n",
      "Matrix Inverse =\n",
      " [[ 0.5 -0.5  0.5]\n",
      " [-4.   3.  -1. ]\n",
      " [ 2.5 -1.5  0.5]]\n",
      "The value of c is = [[-1.]] \n",
      "\n",
      "det Matrix = -2.0\n"
     ]
    }
   ],
   "source": [
    "a_range = np.linspace(-3,3,7)\n",
    "print('a range =', a_range)\n",
    "Sol = np.array([[0.5, -0.5, 0.5], [-4, 3, 0], [2.5, -1.5, 0.5]])\n",
    "\n",
    "#print(Sol[:1,:1])\n",
    "      \n",
    "for a in a_range:\n",
    "    \n",
    "    A = np.array([[0, 1, 2], [1, 2, 3], [3, a, 1]])\n",
    "    Ainv = np.round(np.linalg.inv(A),4)\n",
    "    #print (Ainv)\n",
    "    #print (Ainv[:1,:1])\n",
    "    #print(Ainv[1:2,:1])\n",
    "    \n",
    "    if Ainv[0:1,0:1] == Sol[0:1,0:1] and Ainv[1:2,0:1] == Sol[1:2,:1]:\n",
    "        print ('The solution is: \\n')\n",
    "        print ('Matrix=\\n', A, '\\nValue of a =', A[2:3,1:2], '\\n')\n",
    "        print ('Matrix Inverse =\\n', Ainv)\n",
    "        print ('The value of c is =', Ainv[1:2,2:3],'\\n')\n",
    "        detA = np.linalg.det(A)   \n",
    "        print ('det Matrix =', np.round(detA,4))\n",
    "\n",
    "#when a = 1 then the Ainverse is shown as above and c=-1"
   ]
  },
  {
   "cell_type": "markdown",
   "id": "d1b16600-20ea-405d-896a-d9c88393aae7",
   "metadata": {},
   "source": [
    "---\n",
    "## Linear transformations\n",
    "\n",
    "Below is given a code that generates 200 data points. The first row `p[0, :]` contains the x-values and the second row `p[1, :]` the y-values. The third row `p[2, :]` has values of 1.\n",
    "\n",
    "In the second cell is a function that draws the data points as graphics. \n",
    "\n",
    "Your task is to use linear transformations to *rotate*, *move* and *scale* the datapoints using matrix operations."
   ]
  },
  {
   "cell_type": "markdown",
   "id": "3762fd11-26ac-4330-8666-6871606b5388",
   "metadata": {},
   "source": [
    "### Data-points"
   ]
  },
  {
   "cell_type": "code",
   "execution_count": 17,
   "id": "26a2637b-d3e1-4557-a3ae-d14104972141",
   "metadata": {},
   "outputs": [],
   "source": [
    "t = np.linspace(0, 2*np.pi)\n",
    "x1 = np.cos(t) + 1.0\n",
    "y1 = np.sin(t) + 1.0\n",
    "x2 = np.cos(t)/10 + 0.6\n",
    "y2 = np.sin(t)/10 + 1.5\n",
    "x3 = np.cos(t)/10 + 1.4\n",
    "y3 = np.sin(t)/10 + 1.5\n",
    "x4 = np.cos(t/2)/2 + 1.0\n",
    "y4 = -np.sin(t/2)/2 + 1.0\n",
    "p = np.zeros((3, 200))\n",
    "p[0, :] = np.hstack((x1, x2, x3, x4))\n",
    "p[1, :] = np.hstack((y1, y2, y3, y4))\n",
    "p[2, :] = np.ones((1, 200))"
   ]
  },
  {
   "cell_type": "markdown",
   "id": "dd4e3cf0-2699-44cf-b953-53ed08dea4ba",
   "metadata": {},
   "source": [
    "### Drawing function"
   ]
  },
  {
   "cell_type": "code",
   "execution_count": 18,
   "id": "936ba1b6-a8b4-45c6-99da-129bcc040e56",
   "metadata": {},
   "outputs": [],
   "source": [
    "def draw(p):\n",
    "    plt.figure(figsize = (7, 7))\n",
    "    plt.plot(p[0, :50], p[1, :50])\n",
    "    plt.fill(p[0, 50:100], p[1, 50:100])\n",
    "    plt.fill(p[0, 100:150], p[1, 100:150])\n",
    "    plt.fill(p[0, 150:200], p[1, 150:200])\n",
    "    plt.axhline(0, color = 'red')\n",
    "    plt.axvline(0, color = 'red')\n",
    "    plt.xlim(-5, 5)\n",
    "    plt.ylim(-5, 5)\n",
    "    plt.grid()\n",
    "    plt.show()\n",
    "    "
   ]
  },
  {
   "cell_type": "markdown",
   "id": "c4bde44a-a960-4a29-a535-a29cade148d1",
   "metadata": {},
   "source": [
    "### Original graphics"
   ]
  },
  {
   "cell_type": "code",
   "execution_count": 19,
   "id": "eeb98c4f-e5c7-4b25-afe4-d8714ca30fad",
   "metadata": {},
   "outputs": [
    {
     "data": {
      "image/png": "[encoded data removed]",
      "text/plain": [
       "<Figure size 700x700 with 1 Axes>"
      ]
     },
     "metadata": {},
     "output_type": "display_data"
    }
   ],
   "source": [
    "draw(p)\n",
    "plt.show()"
   ]
  },
  {
   "cell_type": "markdown",
   "id": "f35bd02b-26c0-436b-ab88-6b4306a10ae1",
   "metadata": {},
   "source": [
    "---\n",
    "## Problem 10 (a)\n",
    "\n",
    "Rotate the graphics by +30 degrees (counterclockwise)."
   ]
  },
  {
   "cell_type": "markdown",
   "id": "8a5b1e9e-0b12-44aa-98e7-13a1991bba11",
   "metadata": {},
   "source": [
    "### Solution (a)"
   ]
  },
  {
   "cell_type": "code",
   "execution_count": 20,
   "id": "d1289ddc-d72f-4cc9-8070-635d9e24446b",
   "metadata": {},
   "outputs": [
    {
     "data": {
      "image/png": "[encoded data removed]",
      "text/plain": [
       "<Figure size 700x700 with 1 Axes>"
      ]
     },
     "metadata": {},
     "output_type": "display_data"
    }
   ],
   "source": [
    "theta = np.deg2rad(30)\n",
    "rotation_matrix = np.array([[np.cos(theta), -np.sin(theta), 0],\n",
    "                       [np.sin(theta), np.cos(theta), 0],\n",
    "                       [0, 0, 1]])\n",
    "\n",
    "\n",
    "p_rotated = np.dot(rotation_matrix, p)\n",
    "\n",
    "\n",
    "\n",
    "draw(p_rotated)"
   ]
  },
  {
   "cell_type": "code",
   "execution_count": 21,
   "id": "a86ff88d-2def-437c-a951-45eddb4f4f1a",
   "metadata": {},
   "outputs": [],
   "source": [
    "# Results should look like this"
   ]
  },
  {
   "cell_type": "markdown",
   "id": "b32357ea-20d8-4299-a43b-beca87523606",
   "metadata": {},
   "source": [
    "---\n",
    "## Problem 10 (b)\n",
    "Rotate the figure by +30 degrees followed by a reflection across the vertical axis."
   ]
  },
  {
   "cell_type": "markdown",
   "id": "8c524c32-96b9-40e8-a342-fd4474e187e5",
   "metadata": {},
   "source": [
    "### Solution (b)"
   ]
  },
  {
   "cell_type": "code",
   "execution_count": 22,
   "id": "b085eac0-0acb-4c5c-92f2-f299a33d8932",
   "metadata": {},
   "outputs": [
    {
     "data": {
      "image/png": "[encoded data removed]",
      "text/plain": [
       "<Figure size 700x700 with 1 Axes>"
      ]
     },
     "metadata": {},
     "output_type": "display_data"
    }
   ],
   "source": [
    "theta = np.deg2rad(30)\n",
    "rot_matrix = np.array([[np.cos(theta), -np.sin(theta), 0],\n",
    "                       [np.sin(theta), np.cos(theta), 0],\n",
    "                       [0, 0, 1]])\n",
    "ref_matrix = np.array([[-1, 0, 0],\n",
    "                       [0, 1, 0],\n",
    "                       [0, 0, 1]])\n",
    "p_rotated_reflected = np.dot(ref_matrix, np.dot(rot_matrix, p))\n",
    "draw(p_rotated_reflected)"
   ]
  },
  {
   "cell_type": "code",
   "execution_count": 23,
   "id": "6f54491b-82a3-4a0d-bee4-7430eb6ba2ca",
   "metadata": {},
   "outputs": [],
   "source": [
    "# Results should look like this"
   ]
  },
  {
   "cell_type": "markdown",
   "id": "5bf0e9a8-5bb0-4b20-9761-4e4da9998af7",
   "metadata": {},
   "source": []
  },
  {
   "cell_type": "markdown",
   "id": "77001844-d912-4a02-bf99-cb3f058db928",
   "metadata": {},
   "source": [
    "---\n",
    "## Problem 10 (c)\n",
    "\n",
    "Reflect the figure across the vertical axis followed by a rotation by -60 degrees."
   ]
  },
  {
   "cell_type": "markdown",
   "id": "b985a368-a3af-4472-8478-efff7af68db9",
   "metadata": {},
   "source": [
    "### Solution (c)"
   ]
  },
  {
   "cell_type": "code",
   "execution_count": 24,
   "id": "d57c4f94-2267-4fee-acde-d7f088a6edd2",
   "metadata": {},
   "outputs": [
    {
     "data": {
      "image/png": "[encoded data removed]",
      "text/plain": [
       "<Figure size 700x700 with 1 Axes>"
      ]
     },
     "metadata": {},
     "output_type": "display_data"
    }
   ],
   "source": [
    "theta = np.deg2rad(-60)\n",
    "Rot = np.array([[np.cos(theta), -np.sin(theta), 0], \n",
    "              [np.sin(theta), np.cos(theta), 0],\n",
    "             [0, 0, 1]])\n",
    "ref_matrix = np.array([[-1, 0, 0], \n",
    "                   [0, 1, 0],\n",
    "                   [0, 0, 1]])\n",
    "p2 = np.dot(ref_matrix, p)\n",
    "\n",
    "p3 = np.dot(Rot, p2)\n",
    "draw(p3)\n",
    "plt.show()"
   ]
  },
  {
   "cell_type": "code",
   "execution_count": 25,
   "id": "061b8c26-99b0-4097-b6a5-3e24a3684449",
   "metadata": {},
   "outputs": [],
   "source": [
    "# Results should look like this"
   ]
  },
  {
   "cell_type": "markdown",
   "id": "eab10cf6-f4c4-41cc-9476-4f4ce42f342a",
   "metadata": {},
   "source": [
    "---\n",
    "## Problem 10 (d)\n",
    "Move the figure 3 units to the left and 1 unit upwards, followed by enlarging it by 2x both in x and y directions."
   ]
  },
  {
   "cell_type": "markdown",
   "id": "d5dda95f-88d6-40d9-97fb-89f1232f0902",
   "metadata": {},
   "source": [
    "### Solution (d)"
   ]
  },
  {
   "cell_type": "code",
   "execution_count": 26,
   "id": "c333d0c0-eb15-4688-8256-6afc8ee61d30",
   "metadata": {},
   "outputs": [
    {
     "data": {
      "image/png": "[encoded data removed]",
      "text/plain": [
       "<Figure size 700x700 with 1 Axes>"
      ]
     },
     "metadata": {},
     "output_type": "display_data"
    }
   ],
   "source": [
    "a = -3\n",
    "b = 1\n",
    "Trans = np.array([[1, 0, a], [0, 1, b], [0, 0, 1]])\n",
    "c = 2\n",
    "d = 2\n",
    "A = np.array([[c, 0, 0], [0, d, 0], [0, 0, 1]])\n",
    "p2 = np.dot(Trans, p)\n",
    "\n",
    "p3 = np.dot(A, p2)\n",
    "draw(p3)\n",
    "plt.show()"
   ]
  },
  {
   "cell_type": "code",
   "execution_count": 27,
   "id": "4d4beef3-b139-45af-b6fc-fadc568b24da",
   "metadata": {},
   "outputs": [],
   "source": [
    "# Results should look like this"
   ]
  },
  {
   "cell_type": "markdown",
   "id": "5fc08bf8-d5b6-41ae-be22-9b5a0f070f94",
   "metadata": {},
   "source": [
    "## Problem 10 (e)\n",
    "\n",
    "Find the code which transforms the original graphics to look like as shown below."
   ]
  },
  {
   "cell_type": "code",
   "execution_count": 28,
   "id": "ddb1e0d3-53a4-4281-a7b1-43d003f1f3e0",
   "metadata": {},
   "outputs": [],
   "source": [
    "# The final results should look like this"
   ]
  },
  {
   "cell_type": "markdown",
   "id": "7429db90-0b20-4d32-a2d4-6c16789abd8a",
   "metadata": {},
   "source": [
    "### Solution (e)"
   ]
  },
  {
   "cell_type": "code",
   "execution_count": 29,
   "id": "93f0c694-adcf-4211-bbca-3131c7840e62",
   "metadata": {},
   "outputs": [
    {
     "data": {
      "image/png": "[encoded data removed]",
      "text/plain": [
       "<Figure size 700x700 with 1 Axes>"
      ]
     },
     "metadata": {},
     "output_type": "display_data"
    }
   ],
   "source": [
    "theta = np.deg2rad(135)\n",
    "Rota = np.array([[np.cos(theta), -np.sin(theta), 0], \n",
    "              [np.sin(theta), np.cos(theta), 0],\n",
    "             [0, 0, 1]])\n",
    "reflex = np.array([[-1, 0, 0], [0, 1, 0], [0, 0, 1]])\n",
    "a = -2\n",
    "b = 0.8\n",
    "Trans = np.array([[1, 0, a], [0, 1, b], [0, 0, 1]])\n",
    "c = 2\n",
    "d = 2\n",
    "A = np.array([[c, 0, 0], [0, d, 0], [0, 0, 1]])\n",
    "p2 = np.dot(reflex, p)\n",
    "p3 = np.dot(Rota, p2)\n",
    "p4 = np.dot(A, p3)\n",
    "p5 = np.dot(Trans, p4)\n",
    "\n",
    "draw(p5)\n",
    "plt.show()"
   ]
  },
  {
   "cell_type": "code",
   "execution_count": null,
   "id": "b7d0670a-0997-4ba5-bd54-e58cecbdae00",
   "metadata": {},
   "outputs": [],
   "source": []
  }
 ],
 "metadata": {
  "kernelspec": {
   "display_name": "Python 3 (ipykernel)",
   "language": "python",
   "name": "python3"
  },
  "language_info": {
   "codemirror_mode": {
    "name": "ipython",
    "version": 3
   },
   "file_extension": ".py",
   "mimetype": "text/x-python",
   "name": "python",
   "nbconvert_exporter": "python",
   "pygments_lexer": "ipython3",
   "version": "3.9.15"
  }
 },
 "nbformat": 4,
 "nbformat_minor": 5
}
